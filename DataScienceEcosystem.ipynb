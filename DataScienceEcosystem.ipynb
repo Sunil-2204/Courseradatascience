{
 "cells": [
  {
   "cell_type": "markdown",
   "id": "e4261f18-2455-478e-9f72-66bec1baac60",
   "metadata": {},
   "source": [
    "# Data Science Tools and Ecosystem"
   ]
  },
  {
   "cell_type": "markdown",
   "id": "3d1e7942-3c9f-412e-8cce-743a352b8c20",
   "metadata": {},
   "source": [
    "In this notebook, Data Science Tools and Ecosystem are summarized."
   ]
  },
  {
   "cell_type": "markdown",
   "id": "e89e2625-6042-426b-995d-2d72310131de",
   "metadata": {},
   "source": [
    "**Objectives:**\n",
    "- List popular languages for Data Science\n",
    "- Commonly used libraries\n",
    "- Data Science Tools\n",
    "- Examples of Arithmetic expressions in python\n",
    "- Basic python syntax"
   ]
  },
  {
   "cell_type": "markdown",
   "id": "33098a18-18fd-4f71-87b7-e055af5df106",
   "metadata": {},
   "source": [
    "Some of the popular languages that Data Scientists use are:\n",
    "1. Python\n",
    "2. SQL\n",
    "3. R"
   ]
  },
  {
   "cell_type": "markdown",
   "id": "7b8755f8-af7d-40a6-af9b-d5512faaa72b",
   "metadata": {},
   "source": [
    "Some of the commonly used libraries used by Data Scientists include:\n",
    "1. NumPy\n",
    "2. Pandas\n",
    "3. Matplotlib"
   ]
  },
  {
   "cell_type": "markdown",
   "id": "4aa06878-b368-4a53-9709-9f724cea6550",
   "metadata": {},
   "source": [
    "|Data Science Tools|\n",
    "|----------------|\n",
    "|Jupyter|\n",
    "|Apache Spark|\n",
    "|R Studio|"
   ]
  },
  {
   "cell_type": "markdown",
   "id": "348adecd-a8a3-41dc-89b6-151f25fbb670",
   "metadata": {},
   "source": [
    "### Below are a few examples of evaluating arithmetic expressions in Python"
   ]
  },
  {
   "cell_type": "code",
   "execution_count": 2,
   "id": "fcd39b97-13d2-4fe8-851f-16b8e105ff2a",
   "metadata": {},
   "outputs": [
    {
     "data": {
      "text/plain": [
       "17"
      ]
     },
     "execution_count": 2,
     "metadata": {},
     "output_type": "execute_result"
    }
   ],
   "source": [
    "#This a simple arithmetic expression to mutiply then add integers\n",
    "(3*4)+5"
   ]
  },
  {
   "cell_type": "code",
   "execution_count": 3,
   "id": "ed28bebe-d5f7-4f3f-840c-d9c6a76d5b8d",
   "metadata": {},
   "outputs": [
    {
     "data": {
      "text/plain": [
       "3.3333333333333335"
      ]
     },
     "execution_count": 3,
     "metadata": {},
     "output_type": "execute_result"
    }
   ],
   "source": [
    "#This will convert 200 minutes to hours by diving by 60\n",
    "200/60"
   ]
  },
  {
   "cell_type": "markdown",
   "id": "68aadca7-b2c5-4b9c-8c13-6cde8f37cccb",
   "metadata": {},
   "source": [
    "## Author \n",
    "Sunil Nagireddy"
   ]
  },
  {
   "cell_type": "code",
   "execution_count": null,
   "id": "1aab81d9-dc91-4956-b903-4681b698d67a",
   "metadata": {},
   "outputs": [],
   "source": []
  }
 ],
 "metadata": {
  "kernelspec": {
   "display_name": "Python 3 (ipykernel)",
   "language": "python",
   "name": "python3"
  },
  "language_info": {
   "codemirror_mode": {
    "name": "ipython",
    "version": 3
   },
   "file_extension": ".py",
   "mimetype": "text/x-python",
   "name": "python",
   "nbconvert_exporter": "python",
   "pygments_lexer": "ipython3",
   "version": "3.12.7"
  }
 },
 "nbformat": 4,
 "nbformat_minor": 5
}
